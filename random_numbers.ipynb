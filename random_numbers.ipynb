{
 "cells": [
  {
   "cell_type": "code",
   "execution_count": 1,
   "id": "3a838fde",
   "metadata": {},
   "outputs": [],
   "source": [
    "# Import the random module\n",
    "import random"
   ]
  },
  {
   "cell_type": "code",
   "execution_count": 2,
   "id": "891b69e1",
   "metadata": {},
   "outputs": [
    {
     "data": {
      "text/plain": [
       "-64"
      ]
     },
     "execution_count": 2,
     "metadata": {},
     "output_type": "execute_result"
    }
   ],
   "source": [
    "# randint is short for \"random integer.\" When we run this cell, we'll get a single integer between –90 and 90 \n",
    "# because we need two latitudes between –90 and 90.\n",
    "random.randint(-90, 90)"
   ]
  },
  {
   "cell_type": "code",
   "execution_count": 3,
   "id": "76dad224",
   "metadata": {},
   "outputs": [
    {
     "data": {
      "text/plain": [
       "0.264362786963792"
      ]
     },
     "execution_count": 3,
     "metadata": {},
     "output_type": "execute_result"
    }
   ],
   "source": [
    "# Using the random() function, we can get a single floating-point decimal number between 0 and 1.0.\n",
    "random.random()"
   ]
  },
  {
   "cell_type": "code",
   "execution_count": 6,
   "id": "6c69d128",
   "metadata": {},
   "outputs": [
    {
     "data": {
      "text/plain": [
       "44.919517090776125"
      ]
     },
     "execution_count": 6,
     "metadata": {},
     "output_type": "execute_result"
    }
   ],
   "source": [
    "random_number = random.randint(-90, 89) + random.random()\n",
    "random_number"
   ]
  },
  {
   "cell_type": "code",
   "execution_count": 8,
   "id": "2d754dc0",
   "metadata": {},
   "outputs": [
    {
     "data": {
      "text/plain": [
       "-43.77559923070378"
      ]
     },
     "execution_count": 8,
     "metadata": {},
     "output_type": "execute_result"
    }
   ],
   "source": [
    "x = 1\n",
    "latitudes = []\n",
    "while x < 11:\n",
    "    random_lat = random.randint(-90, 89) + random.random()\n",
    "    latitudes.append(random_lat)\n",
    "    x += 1\n",
    "random_lat\n",
    "\n",
    "# in the code block above, we:\n",
    "\n",
    "# Assign the variable x to 1.\n",
    "# Initialize an empty list, latitudes.\n",
    "# We create a while loop where we generate a random latitude and add it to the list.\n",
    "# After the random latitude is added to the list we add one to the variable \"x\".\n",
    "# The while loop condition is checked again and will continue to run as long as x is less than 11."
   ]
  },
  {
   "cell_type": "code",
   "execution_count": 9,
   "id": "58efb9cd",
   "metadata": {},
   "outputs": [
    {
     "data": {
      "text/plain": [
       "14"
      ]
     },
     "execution_count": 9,
     "metadata": {},
     "output_type": "execute_result"
    }
   ],
   "source": [
    "# The randrange() function behaves differently than the previous two functions. \n",
    "# Inside the parentheses, we need to add two numbers, a lower and upper limit, separated by a comma\n",
    "# For the randrange() function, there is an option to add a step parameter and set it equal to an integer, \n",
    "#  which will generate increments of a given integer value, from the lower to the upper limit.\n",
    "# If you don't add the step parameter, the output will be a number with an increment of 1, \n",
    "# which is the default integer value.\n",
    "\n",
    "random.randrange(-90, 90, step=1)"
   ]
  },
  {
   "cell_type": "code",
   "execution_count": 10,
   "id": "2920c9b6",
   "metadata": {},
   "outputs": [
    {
     "data": {
      "text/plain": [
       "-30"
      ]
     },
     "execution_count": 10,
     "metadata": {},
     "output_type": "execute_result"
    }
   ],
   "source": [
    "random.randrange(-90, 90, step=3)"
   ]
  },
  {
   "cell_type": "code",
   "execution_count": 11,
   "id": "36601f07",
   "metadata": {},
   "outputs": [
    {
     "data": {
      "text/plain": [
       "-48.065988661520464"
      ]
     },
     "execution_count": 11,
     "metadata": {},
     "output_type": "execute_result"
    }
   ],
   "source": [
    "# The uniform() function will allow us to generate a floating-point decimal number between \n",
    "#  two given numbers inside the parentheses.\n",
    "\n",
    "random.uniform(-90, 90)"
   ]
  },
  {
   "cell_type": "code",
   "execution_count": 12,
   "id": "a951a905",
   "metadata": {},
   "outputs": [],
   "source": [
    "# One way to generate more than a thousand latitudes and longitudes is to chain the NumPy module to the random module \n",
    "#  to create an array of latitudes or longitudes between the lowest and highest values, or –90° and 90°, \n",
    "#   and –180° and 180°, respectively. To accomplish this, we'll use the uniform() function from the random module."
   ]
  },
  {
   "cell_type": "code",
   "execution_count": 13,
   "id": "2b3a50bc",
   "metadata": {},
   "outputs": [],
   "source": [
    "# Import the NumPy module\n",
    "import numpy as np\n",
    "\n",
    "# The NumPy module has a built-in random module, and supplements the built-in Python random module. \n",
    "#  There is no need to import the random module if we import the NumPy module, as it's redundant."
   ]
  },
  {
   "cell_type": "code",
   "execution_count": 14,
   "id": "2b108889",
   "metadata": {},
   "outputs": [
    {
     "data": {
      "text/plain": [
       "69.18793630492456"
      ]
     },
     "execution_count": 14,
     "metadata": {},
     "output_type": "execute_result"
    }
   ],
   "source": [
    "np.random.uniform(-90.000, 90.000)"
   ]
  },
  {
   "cell_type": "code",
   "execution_count": null,
   "id": "a95f3d00",
   "metadata": {},
   "outputs": [],
   "source": [
    "# When we use the NumPy module with the random.uniform() function, the parenthetical parameters contain a \n",
    "#  lower boundary (low value) and an upper boundary (high value) that are floating-point decimal numbers."
   ]
  },
  {
   "cell_type": "code",
   "execution_count": 15,
   "id": "40e6360a",
   "metadata": {},
   "outputs": [
    {
     "data": {
      "text/plain": [
       "-51.70531714536138"
      ]
     },
     "execution_count": 15,
     "metadata": {},
     "output_type": "execute_result"
    }
   ],
   "source": [
    "# Another option is to write the parameters as np.random.uniform(low=-90, high=90).\n",
    "np.random.uniform(low=-90, high=90)"
   ]
  },
  {
   "cell_type": "code",
   "execution_count": 17,
   "id": "f309fb96",
   "metadata": {},
   "outputs": [
    {
     "data": {
      "text/plain": [
       "array([ 28.21546553, -13.08394968,  67.18098607, -70.38050054,\n",
       "        -4.07945503,  -8.54901328,  19.71181535,  17.55809824,\n",
       "        34.48456118,  54.24849952,  71.65562004,  40.04181529,\n",
       "       -14.28569935,   2.44632167, -15.76216158,  35.25214019,\n",
       "        64.88924167,  67.10158211, -52.67139839, -46.1222817 ,\n",
       "        18.24106543,  -3.79740641,  -7.68157315, -77.84511274,\n",
       "        15.84380623,  51.37960567,   2.32668423, -48.23859121,\n",
       "        53.90688353, -59.72911688,  10.01084802,  53.239757  ,\n",
       "        16.30138559, -21.43786801, -11.88366215,  64.30298628,\n",
       "       -64.32408708, -66.26316814, -55.24726084, -17.0879443 ,\n",
       "        86.82005113,  29.28007737,  41.15897206,  51.04295567,\n",
       "        24.99663064, -88.08518735,   9.04503935,  61.12430301,\n",
       "        77.4839227 , -65.53700891])"
      ]
     },
     "execution_count": 17,
     "metadata": {},
     "output_type": "execute_result"
    }
   ],
   "source": [
    "# To generate more than one floating-point decimal number between –90 and 90, we can add the size parameter \n",
    "#  when we use the NumPy module and set that equal to any whole number.\n",
    "\n",
    "np.random.uniform(-90, 90, size=50)"
   ]
  },
  {
   "cell_type": "code",
   "execution_count": null,
   "id": "07a6b87b",
   "metadata": {},
   "outputs": [],
   "source": [
    "# To test how long a piece of code or function takes to run, we can import the \"timeit\" module and use \n",
    "#  the %timeit magic command when we run our code or call the function."
   ]
  },
  {
   "cell_type": "code",
   "execution_count": 18,
   "id": "927d5945",
   "metadata": {},
   "outputs": [],
   "source": [
    "# Import timeit\n",
    "import timeit"
   ]
  },
  {
   "cell_type": "code",
   "execution_count": 19,
   "id": "2cf7d8ba",
   "metadata": {},
   "outputs": [
    {
     "name": "stdout",
     "output_type": "stream",
     "text": [
      "13.3 µs ± 717 ns per loop (mean ± std. dev. of 7 runs, 100000 loops each)\n"
     ]
    }
   ],
   "source": [
    "# Next, add the %timeit magic command before the np.random.uniform(-90.000, 90.000, size=1500)\n",
    "\n",
    "%timeit np.random.uniform(-90, 90, size=1500)\n",
    "\n",
    "# When we run the cell, the output is the amount of time it took to run the code for 7 runs and 1,000 loops per run.\n",
    "# Below it shows that  it took 13.3 microseconds "
   ]
  },
  {
   "cell_type": "code",
   "execution_count": 20,
   "id": "dd150e8c",
   "metadata": {},
   "outputs": [
    {
     "name": "stdout",
     "output_type": "stream",
     "text": [
      "1.27 ms ± 54.5 µs per loop (mean ± std. dev. of 7 runs, 1000 loops each)\n"
     ]
    }
   ],
   "source": [
    "# Now, let's run the while loop as a function. \n",
    "def latitudes(size):\n",
    "    latitudes = []\n",
    "    x = 0\n",
    "    while x < (size):\n",
    "        random_lat = random.randint(-90, 90) + random.random()\n",
    "        latitudes.append(random_lat)\n",
    "        x += 1\n",
    "    return latitudes\n",
    "# Call the function with 1500\n",
    "%timeit latitudes (1500)\n",
    "\n",
    "# Below it shows it took 1.27 milliseconds"
   ]
  },
  {
   "cell_type": "code",
   "execution_count": null,
   "id": "d3d8e6e4",
   "metadata": {},
   "outputs": [],
   "source": [
    "# Using the np.random.uniform(-90.000, 90.000, size=1500) is 100 times faster than using the function, \n",
    "#   and our code is one line, whereas the function uses eight lines!"
   ]
  },
  {
   "cell_type": "code",
   "execution_count": null,
   "id": "2bade5f4",
   "metadata": {},
   "outputs": [],
   "source": []
  },
  {
   "cell_type": "code",
   "execution_count": null,
   "id": "b7f6889b",
   "metadata": {},
   "outputs": [],
   "source": []
  },
  {
   "cell_type": "code",
   "execution_count": null,
   "id": "b573762b",
   "metadata": {},
   "outputs": [],
   "source": []
  },
  {
   "cell_type": "code",
   "execution_count": null,
   "id": "f0698875",
   "metadata": {},
   "outputs": [],
   "source": []
  },
  {
   "cell_type": "code",
   "execution_count": null,
   "id": "9159ddb9",
   "metadata": {},
   "outputs": [],
   "source": []
  },
  {
   "cell_type": "code",
   "execution_count": null,
   "id": "58b09f25",
   "metadata": {},
   "outputs": [],
   "source": []
  },
  {
   "cell_type": "code",
   "execution_count": null,
   "id": "e2a8ffd3",
   "metadata": {},
   "outputs": [],
   "source": []
  },
  {
   "cell_type": "code",
   "execution_count": null,
   "id": "7c280d77",
   "metadata": {},
   "outputs": [],
   "source": []
  },
  {
   "cell_type": "code",
   "execution_count": null,
   "id": "b2010a07",
   "metadata": {},
   "outputs": [],
   "source": []
  },
  {
   "cell_type": "code",
   "execution_count": null,
   "id": "45e8cd01",
   "metadata": {},
   "outputs": [],
   "source": []
  },
  {
   "cell_type": "code",
   "execution_count": null,
   "id": "be939c45",
   "metadata": {},
   "outputs": [],
   "source": []
  },
  {
   "cell_type": "code",
   "execution_count": null,
   "id": "054f1ec1",
   "metadata": {},
   "outputs": [],
   "source": []
  },
  {
   "cell_type": "code",
   "execution_count": null,
   "id": "b6fa25d9",
   "metadata": {},
   "outputs": [],
   "source": []
  },
  {
   "cell_type": "code",
   "execution_count": null,
   "id": "0691f819",
   "metadata": {},
   "outputs": [],
   "source": []
  }
 ],
 "metadata": {
  "kernelspec": {
   "display_name": "PythonData",
   "language": "python",
   "name": "pythondata"
  },
  "language_info": {
   "codemirror_mode": {
    "name": "ipython",
    "version": 3
   },
   "file_extension": ".py",
   "mimetype": "text/x-python",
   "name": "python",
   "nbconvert_exporter": "python",
   "pygments_lexer": "ipython3",
   "version": "3.9.4"
  }
 },
 "nbformat": 4,
 "nbformat_minor": 5
}
