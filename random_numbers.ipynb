{
 "cells": [
  {
   "cell_type": "code",
   "execution_count": 1,
   "id": "3a838fde",
   "metadata": {},
   "outputs": [],
   "source": [
    "# Import the random module\n",
    "import random"
   ]
  },
  {
   "cell_type": "code",
   "execution_count": 2,
   "id": "891b69e1",
   "metadata": {},
   "outputs": [
    {
     "data": {
      "text/plain": [
       "-13"
      ]
     },
     "execution_count": 2,
     "metadata": {},
     "output_type": "execute_result"
    }
   ],
   "source": [
    "# randint is short for \"random integer.\" When we run this cell, we'll get a single integer between –90 and 90 \n",
    "# because we need two latitudes between –90 and 90.\n",
    "random.randint(-90, 90)"
   ]
  },
  {
   "cell_type": "code",
   "execution_count": 3,
   "id": "76dad224",
   "metadata": {},
   "outputs": [
    {
     "data": {
      "text/plain": [
       "0.2470768832482947"
      ]
     },
     "execution_count": 3,
     "metadata": {},
     "output_type": "execute_result"
    }
   ],
   "source": [
    "# Using the random() function, we can get a single floating-point decimal number between 0 and 1.0.\n",
    "random.random()"
   ]
  },
  {
   "cell_type": "code",
   "execution_count": 4,
   "id": "6c69d128",
   "metadata": {},
   "outputs": [
    {
     "data": {
      "text/plain": [
       "-68.81173640681389"
      ]
     },
     "execution_count": 4,
     "metadata": {},
     "output_type": "execute_result"
    }
   ],
   "source": [
    "random_number = random.randint(-90, 89) + random.random()\n",
    "random_number"
   ]
  },
  {
   "cell_type": "code",
   "execution_count": 5,
   "id": "2d754dc0",
   "metadata": {},
   "outputs": [
    {
     "data": {
      "text/plain": [
       "-88.80375465861874"
      ]
     },
     "execution_count": 5,
     "metadata": {},
     "output_type": "execute_result"
    }
   ],
   "source": [
    "x = 1\n",
    "latitudes = []\n",
    "while x < 11:\n",
    "    random_lat = random.randint(-90, 89) + random.random()\n",
    "    latitudes.append(random_lat)\n",
    "    x += 1\n",
    "random_lat\n",
    "\n",
    "# in the code block above, we:\n",
    "\n",
    "# Assign the variable x to 1.\n",
    "# Initialize an empty list, latitudes.\n",
    "# We create a while loop where we generate a random latitude and add it to the list.\n",
    "# After the random latitude is added to the list we add one to the variable \"x\".\n",
    "# The while loop condition is checked again and will continue to run as long as x is less than 11."
   ]
  },
  {
   "cell_type": "code",
   "execution_count": 6,
   "id": "58efb9cd",
   "metadata": {},
   "outputs": [
    {
     "data": {
      "text/plain": [
       "-53"
      ]
     },
     "execution_count": 6,
     "metadata": {},
     "output_type": "execute_result"
    }
   ],
   "source": [
    "# The randrange() function behaves differently than the previous two functions. \n",
    "# Inside the parentheses, we need to add two numbers, a lower and upper limit, separated by a comma\n",
    "# For the randrange() function, there is an option to add a step parameter and set it equal to an integer, \n",
    "#  which will generate increments of a given integer value, from the lower to the upper limit.\n",
    "# If you don't add the step parameter, the output will be a number with an increment of 1, \n",
    "# which is the default integer value.\n",
    "\n",
    "random.randrange(-90, 90, step=1)"
   ]
  },
  {
   "cell_type": "code",
   "execution_count": 7,
   "id": "2920c9b6",
   "metadata": {},
   "outputs": [
    {
     "data": {
      "text/plain": [
       "21"
      ]
     },
     "execution_count": 7,
     "metadata": {},
     "output_type": "execute_result"
    }
   ],
   "source": [
    "random.randrange(-90, 90, step=3)"
   ]
  },
  {
   "cell_type": "code",
   "execution_count": 8,
   "id": "36601f07",
   "metadata": {},
   "outputs": [
    {
     "data": {
      "text/plain": [
       "-14.656814040524239"
      ]
     },
     "execution_count": 8,
     "metadata": {},
     "output_type": "execute_result"
    }
   ],
   "source": [
    "# The uniform() function will allow us to generate a floating-point decimal number between \n",
    "#  two given numbers inside the parentheses.\n",
    "\n",
    "random.uniform(-90, 90)"
   ]
  },
  {
   "cell_type": "code",
   "execution_count": 9,
   "id": "a951a905",
   "metadata": {},
   "outputs": [],
   "source": [
    "# One way to generate more than a thousand latitudes and longitudes is to chain the NumPy module to the random module \n",
    "#  to create an array of latitudes or longitudes between the lowest and highest values, or –90° and 90°, \n",
    "#   and –180° and 180°, respectively. To accomplish this, we'll use the uniform() function from the random module."
   ]
  },
  {
   "cell_type": "code",
   "execution_count": 10,
   "id": "2b3a50bc",
   "metadata": {},
   "outputs": [],
   "source": [
    "# Import the NumPy module\n",
    "import numpy as np\n",
    "\n",
    "# The NumPy module has a built-in random module, and supplements the built-in Python random module. \n",
    "#  There is no need to import the random module if we import the NumPy module, as it's redundant."
   ]
  },
  {
   "cell_type": "code",
   "execution_count": 11,
   "id": "2b108889",
   "metadata": {},
   "outputs": [
    {
     "data": {
      "text/plain": [
       "-34.902906434230744"
      ]
     },
     "execution_count": 11,
     "metadata": {},
     "output_type": "execute_result"
    }
   ],
   "source": [
    "np.random.uniform(-90.000, 90.000)"
   ]
  },
  {
   "cell_type": "code",
   "execution_count": 12,
   "id": "a95f3d00",
   "metadata": {},
   "outputs": [],
   "source": [
    "# When we use the NumPy module with the random.uniform() function, the parenthetical parameters contain a \n",
    "#  lower boundary (low value) and an upper boundary (high value) that are floating-point decimal numbers."
   ]
  },
  {
   "cell_type": "code",
   "execution_count": 13,
   "id": "40e6360a",
   "metadata": {},
   "outputs": [
    {
     "data": {
      "text/plain": [
       "-11.60643548418524"
      ]
     },
     "execution_count": 13,
     "metadata": {},
     "output_type": "execute_result"
    }
   ],
   "source": [
    "# Another option is to write the parameters as np.random.uniform(low=-90, high=90).\n",
    "np.random.uniform(low=-90, high=90)"
   ]
  },
  {
   "cell_type": "code",
   "execution_count": 14,
   "id": "f309fb96",
   "metadata": {},
   "outputs": [
    {
     "data": {
      "text/plain": [
       "array([-74.06563261,  88.50229181, -78.78910149, -82.80194357,\n",
       "        -7.64024027, -22.19384284,  63.41953292, -28.28590976,\n",
       "        26.24598611,   0.39873065,  39.22036571, -18.0134498 ,\n",
       "        17.55632095, -23.28445505, -31.94007032, -39.38365659,\n",
       "        79.48195323,  -2.98711583,   1.20540181, -16.05839996,\n",
       "       -52.10247812, -17.83159174,  17.84551942,  17.9894599 ,\n",
       "         2.30297344, -80.12977134,  -5.04787217,  83.87055545,\n",
       "        62.99092601,  12.2163719 ,   4.84011935,  -1.11004905,\n",
       "       -46.49571092,  -6.78544385,  69.47976958,  85.82307335,\n",
       "        24.61096538,  71.51041904, -11.69426023, -85.35487957,\n",
       "        39.8283382 , -88.62559947, -66.68618409, -30.54190779,\n",
       "       -35.91923811, -69.62861107, -66.39078119, -58.35209565,\n",
       "       -20.55404578,   1.37638848])"
      ]
     },
     "execution_count": 14,
     "metadata": {},
     "output_type": "execute_result"
    }
   ],
   "source": [
    "# To generate more than one floating-point decimal number between –90 and 90, we can add the size parameter \n",
    "#  when we use the NumPy module and set that equal to any whole number.\n",
    "\n",
    "np.random.uniform(-90, 90, size=50)"
   ]
  },
  {
   "cell_type": "code",
   "execution_count": 15,
   "id": "07a6b87b",
   "metadata": {},
   "outputs": [],
   "source": [
    "# To test how long a piece of code or function takes to run, we can import the \"timeit\" module and use \n",
    "#  the %timeit magic command when we run our code or call the function."
   ]
  },
  {
   "cell_type": "code",
   "execution_count": 16,
   "id": "927d5945",
   "metadata": {},
   "outputs": [],
   "source": [
    "# Import timeit\n",
    "import timeit"
   ]
  },
  {
   "cell_type": "code",
   "execution_count": 17,
   "id": "2cf7d8ba",
   "metadata": {},
   "outputs": [
    {
     "name": "stdout",
     "output_type": "stream",
     "text": [
      "14.2 µs ± 784 ns per loop (mean ± std. dev. of 7 runs, 100000 loops each)\n"
     ]
    }
   ],
   "source": [
    "# Next, add the %timeit magic command before the np.random.uniform(-90.000, 90.000, size=1500)\n",
    "\n",
    "%timeit np.random.uniform(-90, 90, size=1500)\n",
    "\n",
    "# When we run the cell, the output is the amount of time it took to run the code for 7 runs and 1,000 loops per run.\n",
    "# Below it shows that  it took 13.3 microseconds "
   ]
  },
  {
   "cell_type": "code",
   "execution_count": 18,
   "id": "dd150e8c",
   "metadata": {},
   "outputs": [
    {
     "name": "stdout",
     "output_type": "stream",
     "text": [
      "1.98 ms ± 304 µs per loop (mean ± std. dev. of 7 runs, 100 loops each)\n"
     ]
    }
   ],
   "source": [
    "# Now, let's run the while loop as a function. \n",
    "def latitudes(size):\n",
    "    latitudes = []\n",
    "    x = 0\n",
    "    while x < (size):\n",
    "        random_lat = random.randint(-90, 90) + random.random()\n",
    "        latitudes.append(random_lat)\n",
    "        x += 1\n",
    "    return latitudes\n",
    "# Call the function with 1500\n",
    "%timeit latitudes (1500)\n",
    "\n",
    "# Below it shows it took 1.27 milliseconds"
   ]
  },
  {
   "cell_type": "code",
   "execution_count": 19,
   "id": "d3d8e6e4",
   "metadata": {},
   "outputs": [],
   "source": [
    "# Using the np.random.uniform(-90.000, 90.000, size=1500) is 100 times faster than using the function, \n",
    "#   and our code is one line, whereas the function uses eight lines!"
   ]
  },
  {
   "cell_type": "code",
   "execution_count": null,
   "id": "2bade5f4",
   "metadata": {},
   "outputs": [],
   "source": [
    "### Using Linear Regression to Find the Relationship Between Variables\n",
    "\n",
    "#  For our scatter plots, the independent variable is the latitude, plotted on the x-axis, as its value is fixed. \n",
    "#   When we change the latitude, temperature changes, making it the dependent variable.\n",
    "\n",
    "# To determine if maximum temperature correlates to latitude, we can plot a linear regression line, a straight trendline \n",
    "#  predicting the average y-value, or dependent variable, for a given x-value, or independent variable. \n",
    "# This line can be plotted using the equation y = mx + b, where \"m\" is the slope of the line and \"b\" is the y-intercept. \n",
    "# For every x-value, or latitude we use in the equation, we will get a predicted temperature value.\n",
    "\n",
    "# To determine how strong the relationship is between the fitted line and the data, we find the correlation coefficient, \n",
    "#  or r-value. A correlation coefficient close to 1 shows a strong positive correlation, whereas close to –1 shows a \n",
    "#   strong negative correlation. A correlation coefficient close to zero is no correlation."
   ]
  },
  {
   "cell_type": "code",
   "execution_count": 28,
   "id": "b7f6889b",
   "metadata": {},
   "outputs": [],
   "source": [
    "# Import linear regression from the SciPy stats module\n",
    "from scipy.stats import linregress"
   ]
  },
  {
   "cell_type": "code",
   "execution_count": null,
   "id": "3ee341f9",
   "metadata": {},
   "outputs": [],
   "source": [
    "# Next, we'll generate random latitudes as we did earlier. However, this time, latitudes will be in the Northern Hemisphere \n",
    "#  and therefore positive. In addition, we'll generate an equal number of random temperatures. "
   ]
  },
  {
   "cell_type": "code",
   "execution_count": 29,
   "id": "b573762b",
   "metadata": {},
   "outputs": [],
   "source": [
    "# Create an equal number of latitudes and temperatures\n",
    "lats = [42.5, 43.9, 8.1, 36.8, 79.9, 69.1, 25.7, 15.3, 12.7, 64.5]\n",
    "temps = [80.5, 75.3, 90.9, 90.0, 40.4, 62.3, 85.4, 79.6, 72.5, 72.0]"
   ]
  },
  {
   "cell_type": "code",
   "execution_count": 22,
   "id": "f0698875",
   "metadata": {},
   "outputs": [],
   "source": [
    "# Next, use the linregress function to calculate the slope, y-intercept, correlation coefficient (r-value), p-value, \n",
    "#  and standard deviation, and then we'll print out the equation for the line."
   ]
  },
  {
   "cell_type": "code",
   "execution_count": 30,
   "id": "9159ddb9",
   "metadata": {},
   "outputs": [
    {
     "name": "stdout",
     "output_type": "stream",
     "text": [
      "y = -0.45x + 92.94\n",
      "The p-value is: 0.011\n"
     ]
    }
   ],
   "source": [
    "# Perform linear regression\n",
    "(slope, intercept, r_value, p_value, std_err) = linregress(lats, temps)\n",
    "\n",
    "# Get the equation of the line\n",
    "line_eq =\"y = \" + str(round(slope,2)) + \"x + \" + str(round(intercept,2))\n",
    "print(line_eq)\n",
    "print(f\"The p-value is: {p_value:.3f}\")"
   ]
  },
  {
   "cell_type": "code",
   "execution_count": null,
   "id": "58b09f25",
   "metadata": {},
   "outputs": [],
   "source": [
    "# In the code to perform linear regression, the linregress function takes only two arguments, \n",
    "#   the x- and y-axes data (lats and temps) in the form of arrays. And it returns the following:\n",
    "\n",
    "# Slope of the regression line as slope\n",
    "# y-intercept as intercept\n",
    "# Correlation coefficient as r_value\n",
    "# p-value as p_value\n",
    "# Standard error as std_err\n",
    "\n",
    "# The slope, intercept, r_value, p_value, and std_errare always returned when we run the linregress function. \n",
    "# If you don't want to calculate one of these values but do not add it inside the parentheses, \n",
    "#  you'll get a ValueError: too many values to unpack.\n",
    "\n",
    "# To prevent this error, add a comma and underscore for each value you don't want to calculate.\n",
    "\n",
    "# For instance, if you don't want to print out the p-value and the standard error, write your function as \n",
    "#   (slope, intercept, r_value, _, _) = linregress(x, y)."
   ]
  },
  {
   "cell_type": "code",
   "execution_count": 24,
   "id": "e2a8ffd3",
   "metadata": {},
   "outputs": [],
   "source": [
    "# Now we can calculate the ideal temperatures (y-values) using the slope and intercept from the equation of the \n",
    "#  regression line. To do this, perform list comprehension on the latitudes by multiplying each latitude by the \n",
    "#   slope and adding the intercept.\n",
    "\n",
    "# Calulate the regression line \"y values\" from the slope and intercept\n",
    "regress_values = [(lat * slope + intercept) for lat in lats]"
   ]
  },
  {
   "cell_type": "code",
   "execution_count": 27,
   "id": "7c280d77",
   "metadata": {},
   "outputs": [
    {
     "data": {
      "image/png": "[encoded data removed]",
      "text/plain": [
       "<Figure size 432x288 with 1 Axes>"
      ]
     },
     "metadata": {
      "needs_background": "light"
     },
     "output_type": "display_data"
    }
   ],
   "source": [
    "# Import Matplotlib\n",
    "import matplotlib.pyplot as plt\n",
    "\n",
    "# Create a scatter plot of the x and y values\n",
    "plt.scatter(lats,temps)\n",
    "\n",
    "# Plot the regression line with the x-values and the y coordinates bas on the intercept and slope\n",
    "plt.plot(lats,regress_values,\"r\")\n",
    "\n",
    "# Annotate the text for the line equation and add its coordinates\n",
    "plt.annotate(line_eq, (10,40), fontsize=15, color=\"red\")\n",
    "plt.xlabel('Latitude')\n",
    "plt.ylabel('Temp')\n",
    "plt.show()"
   ]
  },
  {
   "cell_type": "code",
   "execution_count": null,
   "id": "b2010a07",
   "metadata": {},
   "outputs": [],
   "source": [
    "# Let's review what this code above does:\n",
    "\n",
    "# We plot the latitudes and temperatures on a scatter plot.\n",
    "# We create a line plot of our regression line with the ideal temperatures.\n",
    "# We annotate the line plot by adding the equation of our regression line, where the x-axis is 10 and the y-axis is 40,\n",
    "#   and specify the font and color.\n",
    "# We create x- and y-axes labels."
   ]
  },
  {
   "cell_type": "code",
   "execution_count": null,
   "id": "45e8cd01",
   "metadata": {},
   "outputs": [],
   "source": []
  },
  {
   "cell_type": "code",
   "execution_count": null,
   "id": "be939c45",
   "metadata": {},
   "outputs": [],
   "source": []
  },
  {
   "cell_type": "code",
   "execution_count": null,
   "id": "054f1ec1",
   "metadata": {},
   "outputs": [],
   "source": []
  },
  {
   "cell_type": "code",
   "execution_count": null,
   "id": "b6fa25d9",
   "metadata": {},
   "outputs": [],
   "source": []
  },
  {
   "cell_type": "code",
   "execution_count": null,
   "id": "0691f819",
   "metadata": {},
   "outputs": [],
   "source": []
  }
 ],
 "metadata": {
  "kernelspec": {
   "display_name": "PythonData",
   "language": "python",
   "name": "pythondata"
  },
  "language_info": {
   "codemirror_mode": {
    "name": "ipython",
    "version": 3
   },
   "file_extension": ".py",
   "mimetype": "text/x-python",
   "name": "python",
   "nbconvert_exporter": "python",
   "pygments_lexer": "ipython3",
   "version": "3.9.4"
  }
 },
 "nbformat": 4,
 "nbformat_minor": 5
}
