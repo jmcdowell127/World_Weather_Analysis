{
 "cells": [
  {
   "cell_type": "code",
   "execution_count": 1,
   "id": "68b0e8c0",
   "metadata": {},
   "outputs": [],
   "source": [
    "# Let's practice zipping a small number of latitudes and longitudes and then unpacking the zipped \n",
    "#  tuple to see how the packing and unpacking work."
   ]
  },
  {
   "cell_type": "code",
   "execution_count": 2,
   "id": "46306787",
   "metadata": {},
   "outputs": [],
   "source": [
    "# Create a practice set of random latitude and longitude combinations.\n",
    "x = [25.12903645, 25.92017388, 26.62509167, -59.98969384, 37.30571269]\n",
    "y = [-67.59741259, 11.09532135, 74.84233102, -76.89176677, -61.13376282]\n",
    "coordinates = zip(x, y)"
   ]
  },
  {
   "cell_type": "code",
   "execution_count": 3,
   "id": "2c5ad04c",
   "metadata": {},
   "outputs": [
    {
     "name": "stdout",
     "output_type": "stream",
     "text": [
      "25.12903645 -67.59741259\n",
      "25.92017388 11.09532135\n",
      "26.62509167 74.84233102\n",
      "-59.98969384 -76.89176677\n",
      "37.30571269 -61.13376282\n"
     ]
    }
   ],
   "source": [
    "# Use the tuple() function to display the latitude and longitude combinations.\n",
    "for coordinate in coordinates:\n",
    "    print(coordinate[0], coordinate[1])"
   ]
  },
  {
   "cell_type": "code",
   "execution_count": 4,
   "id": "7e77a8f3",
   "metadata": {},
   "outputs": [],
   "source": [
    "# Next, let's unpack our lat_lngs zip object into a list. \n",
    "# This way, we only need to create a set of random latitudes and longitudes once.\n",
    "\n",
    "### This is done in the WeatherPy file ####"
   ]
  },
  {
   "cell_type": "code",
   "execution_count": 5,
   "id": "29bee8c4",
   "metadata": {},
   "outputs": [],
   "source": [
    "# Let's import the citipy script and practice using it.\n",
    "\n",
    "# Use the citipy module to determine city based on latitude and longitude.\n",
    "from citipy import citipy"
   ]
  },
  {
   "cell_type": "code",
   "execution_count": 6,
   "id": "9615aabd",
   "metadata": {},
   "outputs": [],
   "source": [
    "# Next, use the five pairs of latitudes and longitudes we used from our zip practice to get a city and country code from the citipy module.\n",
    "\n",
    "# In a new cell, create a for loop that will do the following:\n",
    "\n",
    "# Iterate through the coordinates' zipped tuple.\n",
    "# Use citipy.nearest_city() and inside the parentheses of nearest_city(),\n",
    "#   add the latitude and longitude in this format: coordinate[0], coordinate[1].\n",
    "# To print the city name, chain the city_name to the nearest_city() function.\n",
    "# To print the country name, chain the country_code to the nearest_city() function."
   ]
  },
  {
   "cell_type": "code",
   "execution_count": 7,
   "id": "459ab223",
   "metadata": {},
   "outputs": [],
   "source": [
    "# Use the tuple() function to display the latitude and longitude combinations.\n",
    "\n",
    "for coordinate in coordinates:\n",
    "    print(citipy.nearest_city(coordinate[0], coordinate[1]).city_name,\n",
    "          citipy.nearest_city(coordinate[0], coordinate[1]).country_code)\n"
   ]
  },
  {
   "cell_type": "code",
   "execution_count": 8,
   "id": "9623b037",
   "metadata": {},
   "outputs": [],
   "source": [
    "# Now that we are familiar with using the citipy module, we can iterate through our zipped lat_lngs tuple and find the \n",
    "#  nearest city. When we find a city, we'll need to add it to a list so that we can use the cities to get the weather data."
   ]
  },
  {
   "cell_type": "code",
   "execution_count": 9,
   "id": "92784d4a",
   "metadata": {},
   "outputs": [],
   "source": [
    "### Make an API Call ###"
   ]
  },
  {
   "cell_type": "code",
   "execution_count": 10,
   "id": "a077952e",
   "metadata": {},
   "outputs": [],
   "source": [
    "# Import the requests library.\n",
    "import requests\n",
    "\n",
    "# Import the API key.\n",
    "from config import weather_api_key"
   ]
  },
  {
   "cell_type": "code",
   "execution_count": 11,
   "id": "4d5031f8",
   "metadata": {},
   "outputs": [
    {
     "name": "stdout",
     "output_type": "stream",
     "text": [
      "http://api.openweathermap.org/data/2.5/weather?units=Imperial&APPID=9d8b8af256dc40ac849d814ce0dcf408\n"
     ]
    }
   ],
   "source": [
    "# Starting URL for Weather Map API Call.\n",
    "url = \"http://api.openweathermap.org/data/2.5/weather?units=Imperial&APPID=\" + weather_api_key\n",
    "print(url)"
   ]
  },
  {
   "cell_type": "code",
   "execution_count": 12,
   "id": "b6f6f8e3",
   "metadata": {},
   "outputs": [],
   "source": [
    "# You may have noticed that we added another feature to the URL: units=Imperial. \n",
    "# There are three unit options: standard, metric, and imperial.\n",
    "# Navigating to the units section of the current weather data page (Links to an external site.) \n",
    "#   will show you the options for the unit format: standard metric, and imperial."
   ]
  },
  {
   "cell_type": "code",
   "execution_count": 13,
   "id": "4669e186",
   "metadata": {},
   "outputs": [
    {
     "name": "stdout",
     "output_type": "stream",
     "text": [
      "http://api.openweathermap.org/data/2.5/weather?units=Imperial&APPID=9d8b8af256dc40ac849d814ce0dcf408&q=Boston\n"
     ]
    }
   ],
   "source": [
    "# Create an endpoint URL for a city\n",
    "city_url = url + \"&q=\" + \"Boston\"\n",
    "print(city_url)\n",
    "\n",
    "# In the code, we are creating a string to get the weather data for Boston by using the city_url. \n",
    "#  To create the city_url we add the parameter, &q= and \"Boston\" to the url.\n",
    "\n",
    "# The output of this cell will also be a URL. \n",
    "#  Click the URL and a new window will open in your default web browser that shows the current weather data for Boston."
   ]
  },
  {
   "cell_type": "code",
   "execution_count": 14,
   "id": "e34046a3",
   "metadata": {},
   "outputs": [],
   "source": [
    "### Make a Request for Data to an API ###"
   ]
  },
  {
   "cell_type": "code",
   "execution_count": 15,
   "id": "602c799f",
   "metadata": {},
   "outputs": [],
   "source": [
    "## Retrieve a Response Using the get() Method"
   ]
  },
  {
   "cell_type": "code",
   "execution_count": 16,
   "id": "9a8125d7",
   "metadata": {},
   "outputs": [
    {
     "data": {
      "text/plain": [
       "<Response [200]>"
      ]
     },
     "execution_count": 16,
     "metadata": {},
     "output_type": "execute_result"
    }
   ],
   "source": [
    "# Make a 'Get' request for the city weather.\n",
    "city_weather = requests.get(city_url)\n",
    "city_weather"
   ]
  },
  {
   "cell_type": "code",
   "execution_count": 17,
   "id": "d4ee9161",
   "metadata": {},
   "outputs": [
    {
     "data": {
      "text/plain": [
       "200"
      ]
     },
     "execution_count": 17,
     "metadata": {},
     "output_type": "execute_result"
    }
   ],
   "source": [
    "# You can directly call the response code with the get() method using the status_code. \n",
    "# If we chain the status_code to the city_weather variable, we get 200 as the output.\n",
    "city_weather.status_code"
   ]
  },
  {
   "cell_type": "code",
   "execution_count": 18,
   "id": "5009b621",
   "metadata": {},
   "outputs": [
    {
     "data": {
      "text/plain": [
       "<Response [404]>"
      ]
     },
     "execution_count": 18,
     "metadata": {},
     "output_type": "execute_result"
    }
   ],
   "source": [
    "# Let's see what would happen if we misspelled a city name–\"Bston\" instead of \"Boston.\"\n",
    "\n",
    "# Create an endpoint URL for a city.\n",
    "city_url = url + \"&q=\" +  \"Bston\"\n",
    "city_weather = requests.get(city_url)\n",
    "city_weather"
   ]
  },
  {
   "cell_type": "code",
   "execution_count": 19,
   "id": "9cc8c98c",
   "metadata": {},
   "outputs": [],
   "source": [
    "## Get Data from a Response"
   ]
  },
  {
   "cell_type": "code",
   "execution_count": 20,
   "id": "231385f5",
   "metadata": {},
   "outputs": [
    {
     "data": {
      "text/plain": [
       "<Response [200]>"
      ]
     },
     "execution_count": 20,
     "metadata": {},
     "output_type": "execute_result"
    }
   ],
   "source": [
    "# Create an endpoint URL for a city.\n",
    "city_url = url + \"&q=\" + \"Boston\"\n",
    "city_weather = requests.get(city_url)\n",
    "city_weather"
   ]
  },
  {
   "cell_type": "code",
   "execution_count": 21,
   "id": "14ae6bf0",
   "metadata": {},
   "outputs": [],
   "source": [
    "# When we receive a valid response from the server, we have to decide on the data format. \n",
    "# The options are text, JSON, XML, or HTML format. \n",
    "# We can apply the format attributes to get the data into a useful format to parse.\n",
    "\n",
    "# One format that provides a preview of the JSON data is the text attribute. \n",
    "# Let's get the content for the Boston weather data using the following code."
   ]
  },
  {
   "cell_type": "code",
   "execution_count": 22,
   "id": "24d44c97",
   "metadata": {},
   "outputs": [
    {
     "data": {
      "text/plain": [
       "'{\"coord\":{\"lon\":-71.0598,\"lat\":42.3584},\"weather\":[{\"id\":802,\"main\":\"Clouds\",\"description\":\"scattered clouds\",\"icon\":\"03d\"}],\"base\":\"stations\",\"main\":{\"temp\":78.1,\"feels_like\":78.15,\"temp_min\":72.37,\"temp_max\":82.15,\"pressure\":1017,\"humidity\":54},\"visibility\":10000,\"wind\":{\"speed\":1.99,\"deg\":326,\"gust\":10},\"clouds\":{\"all\":40},\"dt\":1626983580,\"sys\":{\"type\":2,\"id\":2009921,\"country\":\"US\",\"sunrise\":1626946022,\"sunset\":1626999241},\"timezone\":-14400,\"id\":4930956,\"name\":\"Boston\",\"cod\":200}'"
      ]
     },
     "execution_count": 22,
     "metadata": {},
     "output_type": "execute_result"
    }
   ],
   "source": [
    "# Get the text of the 'Get' request.\n",
    "city_weather.text"
   ]
  },
  {
   "cell_type": "code",
   "execution_count": 23,
   "id": "cf3e7b28",
   "metadata": {},
   "outputs": [],
   "source": [
    "# The text in the output is a dictionary of dictionaries and arrays, or a JSON file. \n",
    "# We can work with this data, but it might be more challenging if we needed to retrieve temperature (temp) \n",
    "#  and humidity ( humidity) from this output because the data is in a sentence format."
   ]
  },
  {
   "cell_type": "code",
   "execution_count": 24,
   "id": "b464c97c",
   "metadata": {},
   "outputs": [
    {
     "data": {
      "text/plain": [
       "{'coord': {'lon': -71.0598, 'lat': 42.3584},\n",
       " 'weather': [{'id': 802,\n",
       "   'main': 'Clouds',\n",
       "   'description': 'scattered clouds',\n",
       "   'icon': '03d'}],\n",
       " 'base': 'stations',\n",
       " 'main': {'temp': 78.1,\n",
       "  'feels_like': 78.15,\n",
       "  'temp_min': 72.37,\n",
       "  'temp_max': 82.15,\n",
       "  'pressure': 1017,\n",
       "  'humidity': 54},\n",
       " 'visibility': 10000,\n",
       " 'wind': {'speed': 1.99, 'deg': 326, 'gust': 10},\n",
       " 'clouds': {'all': 40},\n",
       " 'dt': 1626983580,\n",
       " 'sys': {'type': 2,\n",
       "  'id': 2009921,\n",
       "  'country': 'US',\n",
       "  'sunrise': 1626946022,\n",
       "  'sunset': 1626999241},\n",
       " 'timezone': -14400,\n",
       " 'id': 4930956,\n",
       " 'name': 'Boston',\n",
       " 'cod': 200}"
      ]
     },
     "execution_count": 24,
     "metadata": {},
     "output_type": "execute_result"
    }
   ],
   "source": [
    "# Get the JSON text of the 'Get' request.\n",
    "city_weather.json()"
   ]
  },
  {
   "cell_type": "code",
   "execution_count": 25,
   "id": "60619fcc",
   "metadata": {},
   "outputs": [],
   "source": [
    "## Handle Request Errors"
   ]
  },
  {
   "cell_type": "code",
   "execution_count": 26,
   "id": "5ab4796e",
   "metadata": {},
   "outputs": [],
   "source": [
    "# When we submit a get request for the city_weather, we want to make sure that we get a valid response, i.e., 200, \n",
    "# before we retrieve any data. To check if we get a valid response, we can write a conditional expression that will evaluate\n",
    "# whether the status code is equal to 200. If it is, then we can print out a statement that says the weather data was found.\n",
    "# If there is a response other than 200, we can print out a statement that says the weather was not found, as in the \n",
    "# following example:"
   ]
  },
  {
   "cell_type": "code",
   "execution_count": 27,
   "id": "978d67e0",
   "metadata": {},
   "outputs": [
    {
     "name": "stdout",
     "output_type": "stream",
     "text": [
      "City Weather Found.\n"
     ]
    }
   ],
   "source": [
    "# Create an endpoint URL for a city.\n",
    "city_url = url + \"&q=\" + \"Boston\"\n",
    "city_weather = requests.get(city_url)\n",
    "if city_weather.status_code == 200:\n",
    "    print(f\"City Weather Found.\")\n",
    "else:\n",
    "    print(f\"City Weather Not Found.\")"
   ]
  },
  {
   "cell_type": "code",
   "execution_count": 28,
   "id": "4adb9fab",
   "metadata": {},
   "outputs": [
    {
     "name": "stdout",
     "output_type": "stream",
     "text": [
      "City Weather found.\n"
     ]
    }
   ],
   "source": [
    "# Create an endpoint URL for a city.\n",
    "city_url = url + \"&q=\" + \"Bston\"\n",
    "city_weather = requests.get(city_url)\n",
    "if city_weather.json():\n",
    "    print(f\"City Weather found.\")\n",
    "else:\n",
    "    print(f\"City weather not found.\")"
   ]
  },
  {
   "cell_type": "code",
   "execution_count": 29,
   "id": "32787708",
   "metadata": {},
   "outputs": [
    {
     "name": "stdout",
     "output_type": "stream",
     "text": [
      "http://api.openweathermap.org/data/2.5/weather?units=Imperial&APPID=9d8b8af256dc40ac849d814ce0dcf408&q=Bston\n"
     ]
    }
   ],
   "source": [
    "print(city_url)"
   ]
  },
  {
   "cell_type": "code",
   "execution_count": 30,
   "id": "7b5f35b9",
   "metadata": {},
   "outputs": [],
   "source": [
    "### Parse a Response from an API ###"
   ]
  },
  {
   "cell_type": "code",
   "execution_count": 31,
   "id": "038783d8",
   "metadata": {},
   "outputs": [
    {
     "name": "stdout",
     "output_type": "stream",
     "text": [
      "City Weather Found.\n"
     ]
    }
   ],
   "source": [
    "# Create an endpoint URL for a city.\n",
    "city_url = url + \"&q=\" + \"Boston\"\n",
    "city_weather = requests.get(city_url)\n",
    "if city_weather.status_code == 200:\n",
    "    print(f\"City Weather Found.\")\n",
    "else:\n",
    "    print(f\"City Weather Not Found.\")"
   ]
  },
  {
   "cell_type": "code",
   "execution_count": 32,
   "id": "52eb03ad",
   "metadata": {},
   "outputs": [
    {
     "data": {
      "text/plain": [
       "{'coord': {'lon': -71.0598, 'lat': 42.3584},\n",
       " 'weather': [{'id': 802,\n",
       "   'main': 'Clouds',\n",
       "   'description': 'scattered clouds',\n",
       "   'icon': '03d'}],\n",
       " 'base': 'stations',\n",
       " 'main': {'temp': 78.1,\n",
       "  'feels_like': 78.15,\n",
       "  'temp_min': 72.37,\n",
       "  'temp_max': 82.15,\n",
       "  'pressure': 1017,\n",
       "  'humidity': 54},\n",
       " 'visibility': 10000,\n",
       " 'wind': {'speed': 1.99, 'deg': 326, 'gust': 10},\n",
       " 'clouds': {'all': 40},\n",
       " 'dt': 1626983580,\n",
       " 'sys': {'type': 2,\n",
       "  'id': 2009921,\n",
       "  'country': 'US',\n",
       "  'sunrise': 1626946022,\n",
       "  'sunset': 1626999241},\n",
       " 'timezone': -14400,\n",
       " 'id': 4930956,\n",
       " 'name': 'Boston',\n",
       " 'cod': 200}"
      ]
     },
     "execution_count": 32,
     "metadata": {},
     "output_type": "execute_result"
    }
   ],
   "source": [
    "# Create an endpoint URL for a city\n",
    "city_url = url + \"&q=\" + \"Boston\"\n",
    "city_weather = requests.get(city_url)\n",
    "city_weather.json()"
   ]
  },
  {
   "cell_type": "code",
   "execution_count": 33,
   "id": "43316938",
   "metadata": {},
   "outputs": [],
   "source": [
    "# First, let's get something simple, like the country code from the JSON formatted data, \n",
    "#  which is in a nested dictionary where the first dictionary starts with sys."
   ]
  },
  {
   "cell_type": "code",
   "execution_count": 34,
   "id": "72598db1",
   "metadata": {},
   "outputs": [],
   "source": [
    "# let's assign a variable to the city_weather.json() data to the variable \"boston_data\"\n",
    "\n",
    "# Get the JSON data\n",
    "boston_data = city_weather.json()"
   ]
  },
  {
   "cell_type": "code",
   "execution_count": 35,
   "id": "c76df63b",
   "metadata": {},
   "outputs": [
    {
     "data": {
      "text/plain": [
       "{'type': 2,\n",
       " 'id': 2009921,\n",
       " 'country': 'US',\n",
       " 'sunrise': 1626946022,\n",
       " 'sunset': 1626999241}"
      ]
     },
     "execution_count": 35,
     "metadata": {},
     "output_type": "execute_result"
    }
   ],
   "source": [
    "# Next, using the sys key to get the corresponding value, we type boston_data['sys'] in a new cell and run the cell.\n",
    "# The output is another dictionary \n",
    "boston_data['sys']"
   ]
  },
  {
   "cell_type": "code",
   "execution_count": 36,
   "id": "909db892",
   "metadata": {},
   "outputs": [
    {
     "data": {
      "text/plain": [
       "'US'"
      ]
     },
     "execution_count": 36,
     "metadata": {},
     "output_type": "execute_result"
    }
   ],
   "source": [
    "# If we add the country key in brackets after the sys key, and run the cell again, ‘US’ will be returned in the output.\n",
    "boston_data[\"sys\"][\"country\"]"
   ]
  },
  {
   "cell_type": "code",
   "execution_count": 37,
   "id": "c00929c5",
   "metadata": {},
   "outputs": [
    {
     "data": {
      "text/plain": [
       "1626983580"
      ]
     },
     "execution_count": 37,
     "metadata": {},
     "output_type": "execute_result"
    }
   ],
   "source": [
    "# If we want to retrieve the date in the weather data, \n",
    "#   we would add the dt key to the boston_data variable like this: boston_data[\"dt\"].\n",
    "boston_data[\"dt\"]"
   ]
  },
  {
   "cell_type": "code",
   "execution_count": 38,
   "id": "5d563c20",
   "metadata": {},
   "outputs": [
    {
     "data": {
      "text/plain": [
       "42.3584"
      ]
     },
     "execution_count": 38,
     "metadata": {},
     "output_type": "execute_result"
    }
   ],
   "source": [
    "# Get the latitude value from the Boston JSON data\n",
    "boston_data['coord']['lat']"
   ]
  },
  {
   "cell_type": "code",
   "execution_count": 39,
   "id": "cdc15334",
   "metadata": {},
   "outputs": [
    {
     "data": {
      "text/plain": [
       "82.15"
      ]
     },
     "execution_count": 39,
     "metadata": {},
     "output_type": "execute_result"
    }
   ],
   "source": [
    "# Get the maximum temperature value from the Boston JSON data\n",
    "boston_data['main']['temp_max']"
   ]
  },
  {
   "cell_type": "code",
   "execution_count": 40,
   "id": "815fe79d",
   "metadata": {},
   "outputs": [
    {
     "name": "stdout",
     "output_type": "stream",
     "text": [
      "42.3584 -71.0598 82.15 54 40 1.99\n"
     ]
    }
   ],
   "source": [
    "# Using similar syntax to get the time of day, we can get the latitude, longitude, maximum temperature, \n",
    "#  humidity, percent cloudiness, and wind speed.\n",
    "\n",
    "lat = boston_data['coord']['lat']\n",
    "lng = boston_data['coord']['lon']\n",
    "max_temp = boston_data['main']['temp_max']\n",
    "humidity = boston_data['main']['humidity']\n",
    "clouds = boston_data['clouds']['all']\n",
    "wind = boston_data['wind']['speed']\n",
    "print(lat, lng, max_temp, humidity, clouds, wind)"
   ]
  },
  {
   "cell_type": "code",
   "execution_count": 41,
   "id": "d121cc89",
   "metadata": {},
   "outputs": [],
   "source": [
    "## Convert the Date Timestamp"
   ]
  },
  {
   "cell_type": "code",
   "execution_count": 42,
   "id": "5c26b2a7",
   "metadata": {},
   "outputs": [],
   "source": [
    "# This format is called Coordinated Universal Time (UTC) or Greenwich Mean Time (GMT). \n",
    "# If we want to convert the timestamp to the International Organization for Standardization (ISO) format, \n",
    "#  or YYYY-MM-DD-HH-MM-SS, we need to use the Python datetime module."
   ]
  },
  {
   "cell_type": "code",
   "execution_count": 43,
   "id": "a837f7cf",
   "metadata": {},
   "outputs": [
    {
     "data": {
      "text/plain": [
       "datetime.datetime(2021, 7, 22, 19, 53)"
      ]
     },
     "execution_count": 43,
     "metadata": {},
     "output_type": "execute_result"
    }
   ],
   "source": [
    "# Import the datetime module from the datetime library.\n",
    "from datetime import datetime\n",
    "# Get the date from the JSON file.\n",
    "date = boston_data['dt']\n",
    "# Convert the UTC date to a date format with year, month, day, hours, minutes, and seconds.\n",
    "datetime.utcfromtimestamp(date)"
   ]
  },
  {
   "cell_type": "code",
   "execution_count": 44,
   "id": "8792a361",
   "metadata": {},
   "outputs": [
    {
     "data": {
      "text/plain": [
       "'2021-07-22 19:53:00'"
      ]
     },
     "execution_count": 44,
     "metadata": {},
     "output_type": "execute_result"
    }
   ],
   "source": [
    "# We can convert this datetime format using the Python string format method strftime() \n",
    "#  and adding how we want the string to look inside the parentheses. \n",
    "# In our case, we would use strftime('%Y-%m-%d %H:%M:%S').  \n",
    "\n",
    "datetime.utcfromtimestamp(date).strftime('%Y-%m-%d %H:%M:%S')"
   ]
  },
  {
   "cell_type": "code",
   "execution_count": null,
   "id": "daf906a8",
   "metadata": {},
   "outputs": [],
   "source": [
    "### Plot Latitude vs. Temperature ####\n",
    "\n",
    "# We'll create scatter plots for latitude vs. maximum temperature, humidity, cloudiness, and wind speed. \n",
    "#  The first, latitude vs. maximum temperature, should look like the following scatter plot."
   ]
  },
  {
   "cell_type": "code",
   "execution_count": null,
   "id": "cc0cc07c",
   "metadata": {},
   "outputs": [],
   "source": [
    "## Get Data for Plotting"
   ]
  },
  {
   "cell_type": "code",
   "execution_count": 46,
   "id": "11331726",
   "metadata": {},
   "outputs": [
    {
     "data": {
      "text/plain": [
       "1626984064.2322936"
      ]
     },
     "execution_count": 46,
     "metadata": {},
     "output_type": "execute_result"
    }
   ],
   "source": [
    "# Import the time module\n",
    "import time\n",
    "\n",
    "# Get today's date in seconds\n",
    "today = time.time()\n",
    "today"
   ]
  },
  {
   "cell_type": "code",
   "execution_count": null,
   "id": "161b9659",
   "metadata": {},
   "outputs": [],
   "source": [
    "# The format for time appears like the datetime stamp for the JSON weather data. \n",
    "# We can convert this using the string format method, strftime() and pass the formatting parameters for our date in\n",
    "#  parentheses. To get the format for today, we can add %x inside the parentheses."
   ]
  },
  {
   "cell_type": "code",
   "execution_count": 47,
   "id": "51934267",
   "metadata": {},
   "outputs": [
    {
     "data": {
      "text/plain": [
       "'07/22/21'"
      ]
     },
     "execution_count": 47,
     "metadata": {},
     "output_type": "execute_result"
    }
   ],
   "source": [
    "today = time.strftime(\"%x\")\n",
    "today"
   ]
  },
  {
   "cell_type": "code",
   "execution_count": null,
   "id": "f88965cb",
   "metadata": {},
   "outputs": [],
   "source": []
  },
  {
   "cell_type": "code",
   "execution_count": null,
   "id": "77611d99",
   "metadata": {},
   "outputs": [],
   "source": []
  },
  {
   "cell_type": "code",
   "execution_count": null,
   "id": "45b49527",
   "metadata": {},
   "outputs": [],
   "source": []
  },
  {
   "cell_type": "code",
   "execution_count": null,
   "id": "70ab9471",
   "metadata": {},
   "outputs": [],
   "source": []
  },
  {
   "cell_type": "code",
   "execution_count": null,
   "id": "6587983a",
   "metadata": {},
   "outputs": [],
   "source": []
  }
 ],
 "metadata": {
  "kernelspec": {
   "display_name": "PythonData",
   "language": "python",
   "name": "pythondata"
  },
  "language_info": {
   "codemirror_mode": {
    "name": "ipython",
    "version": 3
   },
   "file_extension": ".py",
   "mimetype": "text/x-python",
   "name": "python",
   "nbconvert_exporter": "python",
   "pygments_lexer": "ipython3",
   "version": "3.9.4"
  }
 },
 "nbformat": 4,
 "nbformat_minor": 5
}
