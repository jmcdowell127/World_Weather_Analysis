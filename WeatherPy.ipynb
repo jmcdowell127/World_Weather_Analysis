{
 "cells": [
  {
   "cell_type": "code",
   "execution_count": 1,
   "id": "fd21a126",
   "metadata": {},
   "outputs": [],
   "source": [
    "# Import the dependencies\n",
    "import pandas as pd\n",
    "import matplotlib.pyplot as plt\n",
    "import numpy as np"
   ]
  },
  {
   "cell_type": "code",
   "execution_count": 2,
   "id": "eeb0e98b",
   "metadata": {},
   "outputs": [],
   "source": [
    "# In the next cell, we'll add the code that generates the latitudes and longitudes, \n",
    "#  but first, they need to be stored so that we can access them later. \n",
    "#   Since we are creating arrays of latitudes and longitudes, we'll declare each array as a variable.\n",
    "\n",
    "#  To ensure enough latitudes and longitudes, we'll start with 1,500. In addition, we'll pack the latitudes (lats) \n",
    "#   and longitudes (lngs) as pairs by zipping them (lat_lngs) with the zip() function."
   ]
  },
  {
   "cell_type": "code",
   "execution_count": 3,
   "id": "d93b0f46",
   "metadata": {},
   "outputs": [
    {
     "data": {
      "text/plain": [
       "<zip at 0x15d58618980>"
      ]
     },
     "execution_count": 3,
     "metadata": {},
     "output_type": "execute_result"
    }
   ],
   "source": [
    "# Create a set of random latitude and longitude combinations\n",
    "lats = np.random.uniform(low=-90, high=90, size=1500)\n",
    "lngs = np.random.uniform(low=-90, high=90, size=1500)\n",
    "lat_lngs = zip(lats, lngs)\n",
    "lat_lngs"
   ]
  },
  {
   "cell_type": "code",
   "execution_count": 4,
   "id": "0e99dba5",
   "metadata": {},
   "outputs": [],
   "source": [
    "# The zip object packs each pair of lats and lngs having the same index in their respective array into a tuple. \n",
    "#  If there are 1,500 latitudes and longitudes, there will be 1,500 tuples of paired latitudes and longitudes,\n",
    "#   where each latitude and longitude in a tuple can be accessed by the index of 0 and 1, respectively.\n"
   ]
  },
  {
   "cell_type": "code",
   "execution_count": 5,
   "id": "0a547946",
   "metadata": {},
   "outputs": [],
   "source": [
    "# Next, let's unpack our lat_lngs zip object into a list. \n",
    "# This way, we only need to create a set of random latitudes and longitudes once. \n",
    "\n",
    "# Add the latitudes and longitudes to a list.\n",
    "coordinates = list(lat_lngs)"
   ]
  },
  {
   "cell_type": "code",
   "execution_count": 6,
   "id": "4b06065c",
   "metadata": {},
   "outputs": [],
   "source": [
    "### Generate Random World Cities ###"
   ]
  },
  {
   "cell_type": "code",
   "execution_count": 7,
   "id": "5256c18f",
   "metadata": {},
   "outputs": [],
   "source": [
    "# Now that we are familiar with using the citipy module, we can iterate through our zipped lat_lngs tuple and find the \n",
    "#  nearest city. When we find a city, we'll need to add it to a list so that we can use the cities to get the weather data."
   ]
  },
  {
   "cell_type": "code",
   "execution_count": 9,
   "id": "615a6893",
   "metadata": {},
   "outputs": [],
   "source": [
    "# Import the citipy module\n",
    "from citipy import citipy"
   ]
  },
  {
   "cell_type": "code",
   "execution_count": 10,
   "id": "c824859d",
   "metadata": {},
   "outputs": [
    {
     "data": {
      "text/plain": [
       "583"
      ]
     },
     "execution_count": 10,
     "metadata": {},
     "output_type": "execute_result"
    }
   ],
   "source": [
    "# Create a list for holding the cities.\n",
    "cities = []\n",
    "# Identify the nearest city for each latitude and longitude combination.\n",
    "for coordinate in coordinates:\n",
    "    city = citipy.nearest_city(coordinate[0], coordinate[1]).city_name\n",
    "\n",
    "    # If the city is unique, then we will add it to the cities list.\n",
    "    if city not in cities:\n",
    "        cities.append(city)\n",
    "# Print the city count to confirm sufficient count.\n",
    "len(cities)"
   ]
  },
  {
   "cell_type": "code",
   "execution_count": null,
   "id": "9c98f045",
   "metadata": {},
   "outputs": [],
   "source": [
    "# Some of this code should look familiar, but let's break it down:\n",
    "\n",
    "# We create a cities list to store city names.\n",
    "# We iterate through the coordinates, as in our practice, and retrieve the nearest city using the latitude and longitude pair.\n",
    "# We add a decision statement with the logical operator not in to determine whether the found city is already in the cities\n",
    "#  list. If not, then we'll use the append() function to add it. We are doing this because among the 1,500 latitudes and \n",
    "#   longitudes, there might be duplicates, which will retrieve duplicate cities, \n",
    "#    and we want to be sure we capture only the unique cities."
   ]
  },
  {
   "cell_type": "code",
   "execution_count": null,
   "id": "dbfc8bfa",
   "metadata": {},
   "outputs": [],
   "source": []
  },
  {
   "cell_type": "code",
   "execution_count": null,
   "id": "7bf97eb1",
   "metadata": {},
   "outputs": [],
   "source": []
  },
  {
   "cell_type": "code",
   "execution_count": null,
   "id": "552c03b5",
   "metadata": {},
   "outputs": [],
   "source": []
  },
  {
   "cell_type": "code",
   "execution_count": null,
   "id": "a01e5d93",
   "metadata": {},
   "outputs": [],
   "source": []
  },
  {
   "cell_type": "code",
   "execution_count": null,
   "id": "03950f58",
   "metadata": {},
   "outputs": [],
   "source": []
  },
  {
   "cell_type": "code",
   "execution_count": null,
   "id": "726973a1",
   "metadata": {},
   "outputs": [],
   "source": []
  },
  {
   "cell_type": "code",
   "execution_count": null,
   "id": "6f4e2d4e",
   "metadata": {},
   "outputs": [],
   "source": []
  },
  {
   "cell_type": "code",
   "execution_count": null,
   "id": "7b2357d2",
   "metadata": {},
   "outputs": [],
   "source": []
  },
  {
   "cell_type": "code",
   "execution_count": null,
   "id": "424e895e",
   "metadata": {},
   "outputs": [],
   "source": []
  },
  {
   "cell_type": "code",
   "execution_count": null,
   "id": "fb0e393b",
   "metadata": {},
   "outputs": [],
   "source": []
  },
  {
   "cell_type": "code",
   "execution_count": null,
   "id": "174bfba8",
   "metadata": {},
   "outputs": [],
   "source": []
  },
  {
   "cell_type": "code",
   "execution_count": null,
   "id": "aeaa1f13",
   "metadata": {},
   "outputs": [],
   "source": []
  },
  {
   "cell_type": "code",
   "execution_count": null,
   "id": "c80c1ae0",
   "metadata": {},
   "outputs": [],
   "source": []
  },
  {
   "cell_type": "code",
   "execution_count": null,
   "id": "ebd40107",
   "metadata": {},
   "outputs": [],
   "source": []
  },
  {
   "cell_type": "code",
   "execution_count": null,
   "id": "2c0111a8",
   "metadata": {},
   "outputs": [],
   "source": []
  },
  {
   "cell_type": "code",
   "execution_count": null,
   "id": "afaa13ac",
   "metadata": {},
   "outputs": [],
   "source": []
  },
  {
   "cell_type": "code",
   "execution_count": null,
   "id": "b7876158",
   "metadata": {},
   "outputs": [],
   "source": []
  },
  {
   "cell_type": "code",
   "execution_count": null,
   "id": "21973c7d",
   "metadata": {},
   "outputs": [],
   "source": []
  }
 ],
 "metadata": {
  "kernelspec": {
   "display_name": "PythonData",
   "language": "python",
   "name": "pythondata"
  },
  "language_info": {
   "codemirror_mode": {
    "name": "ipython",
    "version": 3
   },
   "file_extension": ".py",
   "mimetype": "text/x-python",
   "name": "python",
   "nbconvert_exporter": "python",
   "pygments_lexer": "ipython3",
   "version": "3.9.4"
  }
 },
 "nbformat": 4,
 "nbformat_minor": 5
}
