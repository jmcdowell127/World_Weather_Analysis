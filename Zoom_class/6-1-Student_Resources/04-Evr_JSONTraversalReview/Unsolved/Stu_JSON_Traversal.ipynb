{
 "cells": [
  {
   "cell_type": "code",
   "execution_count": 2,
   "metadata": {},
   "outputs": [
    {
     "name": "stdout",
     "output_type": "stream",
     "text": [
      "{'apiVersion': '2.0',\n",
      " 'data': {'items': [{'accessControl': {'comment': 'allowed',\n",
      "                                       'commentVote': 'allowed',\n",
      "                                       'embed': 'allowed',\n",
      "                                       'list': 'allowed',\n",
      "                                       'rate': 'allowed',\n",
      "                                       'syndicate': 'allowed',\n",
      "                                       'videoRespond': 'moderated'},\n",
      "                     'aspectRatio': 'widescreen',\n",
      "                     'category': 'News',\n",
      "                     'commentCount': 22,\n",
      "                     'content': {'1': 'rtsp://v5.cache3.c.youtube.com/CiILENy.../0/0/0/video.3gp',\n",
      "                                 '5': 'http://www.youtube.com/v/hYB0mn5zh2c?f...',\n",
      "                                 '6': 'rtsp://v1.cache1.c.youtube.com/CiILENy.../0/0/0/video.3gp'},\n",
      "                     'description': 'Google Maps API Introduction ...',\n",
      "                     'duration': 2840,\n",
      "                     'favoriteCount': 201,\n",
      "                     'id': 'hYB0mn5zh2c',\n",
      "                     'player': {'default': 'http://www.youtube.com/watch?vu003dhYB0mn5zh2c'},\n",
      "                     'rating': 4.63,\n",
      "                     'ratingCount': 68,\n",
      "                     'status': {'reason': 'limitedSyndication',\n",
      "                                'value': 'restricted'},\n",
      "                     'tags': ['GDD07', 'GDD07US', 'Maps'],\n",
      "                     'thumbnail': {'default': 'http://i.ytimg.com/vi/hYB0mn5zh2c/default.jpg',\n",
      "                                   'hqDefault': 'http://i.ytimg.com/vi/hYB0mn5zh2c/hqdefault.jpg'},\n",
      "                     'title': 'Google Developers Day US - Maps API '\n",
      "                              'Introduction',\n",
      "                     'updated': '2010-01-07T13:26:50.000Z',\n",
      "                     'uploaded': '2007-06-05T22:07:03.000Z',\n",
      "                     'uploader': 'GoogleDeveloperDay',\n",
      "                     'viewCount': 220101}],\n",
      "          'itemsPerPage': 1,\n",
      "          'startIndex': 1,\n",
      "          'totalItems': 800,\n",
      "          'updated': '2010-01-07T19:58:42.949Z'}}\n"
     ]
    }
   ],
   "source": [
    "# Dependencies\n",
    "import json\n",
    "import os\n",
    "from pprint import pprint\n",
    "\n",
    "# Load JSON\n",
    "filepath = os.path.join(\"..\", \"Resources\", \"youtube_response.json\")\n",
    "with open(filepath) as jsonfile:\n",
    "    json_data = json.load(jsonfile)\n",
    "pprint(json_data)"
   ]
  },
  {
   "cell_type": "code",
   "execution_count": 3,
   "metadata": {},
   "outputs": [
    {
     "name": "stdout",
     "output_type": "stream",
     "text": [
      "Title: Google Developers Day US - Maps API Introduction\n"
     ]
    }
   ],
   "source": [
    "# Isolate our data items\n",
    "data = json_data['data']\n",
    "data_items = data['items']\n",
    "title = data_items[0]['title']\n",
    "print(f\"Title: {title}\")"
   ]
  },
  {
   "cell_type": "code",
   "execution_count": 6,
   "metadata": {},
   "outputs": [
    {
     "name": "stdout",
     "output_type": "stream",
     "text": [
      "Rating: 4.63\n"
     ]
    }
   ],
   "source": [
    "rating = data_items[0]['rating']\n",
    "print(f\"Rating: {rating}\")"
   ]
  },
  {
   "cell_type": "code",
   "execution_count": 7,
   "metadata": {},
   "outputs": [
    {
     "name": "stdout",
     "output_type": "stream",
     "text": [
      "Thumbnail: http://i.ytimg.com/vi/hYB0mn5zh2c/default.jpg\n"
     ]
    }
   ],
   "source": [
    "default_thumbnail = data_items[0]['thumbnail']['default']\n",
    "print(f\"Thumbnail: {default_thumbnail}\")"
   ]
  },
  {
   "cell_type": "code",
   "execution_count": 8,
   "metadata": {},
   "outputs": [
    {
     "name": "stdout",
     "output_type": "stream",
     "text": [
      "View Count: 220101\n"
     ]
    }
   ],
   "source": [
    "view_count = data_items[0]['viewCount']\n",
    "print(f\"View Count: {view_count}\")"
   ]
  }
 ],
 "metadata": {
  "kernelspec": {
   "display_name": "Python 3",
   "language": "python",
   "name": "python3"
  },
  "language_info": {
   "codemirror_mode": {
    "name": "ipython",
    "version": 3
   },
   "file_extension": ".py",
   "mimetype": "text/x-python",
   "name": "python",
   "nbconvert_exporter": "python",
   "pygments_lexer": "ipython3",
   "version": "3.9.4"
  }
 },
 "nbformat": 4,
 "nbformat_minor": 2
}
